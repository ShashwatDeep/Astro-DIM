{
 "cells": [
  {
   "cell_type": "code",
   "execution_count": null,
   "id": "216cf48b",
   "metadata": {},
   "outputs": [],
   "source": [
    "from astropy.io import fits\n",
    "from astropy.table import Table\n",
    "from matplotlib.colors import LogNorm\n",
    "import pandas as pd\n",
    "import numpy as np\n",
    "import matplotlib.pyplot as plt\n",
    "import seaborn as sns\n",
    "import math\n",
    "import corner"
   ]
  },
  {
   "cell_type": "markdown",
   "id": "24be28c9",
   "metadata": {},
   "source": [
    "## Main DATA Exploration\n",
    "## DATA From : https://www.horizon-simulation.org/PHOTOCAT/HorizonAGN_LAIGLE-DAVIDZON+2019_EUC-LSST_v1.5.fits"
   ]
  },
  {
   "cell_type": "code",
   "execution_count": null,
   "id": "74e9b1b1",
   "metadata": {},
   "outputs": [],
   "source": [
    "hdul = fits.open(r'C:\\Users\\shash\\OneDrive\\Documents\\Dessertation\\Astro-DIM\\data\\raw\\Euclid.fits')\n",
    "hdul.info()"
   ]
  },
  {
   "cell_type": "code",
   "execution_count": null,
   "id": "10cfbab9",
   "metadata": {},
   "outputs": [],
   "source": [
    "data = hdul[1].data"
   ]
  },
  {
   "cell_type": "code",
   "execution_count": null,
   "id": "b771c1e4",
   "metadata": {},
   "outputs": [],
   "source": [
    "print(data.columns.names)"
   ]
  },
  {
   "cell_type": "code",
   "execution_count": null,
   "id": "5d906ed5",
   "metadata": {},
   "outputs": [],
   "source": [
    "print(data[0])"
   ]
  },
  {
   "cell_type": "code",
   "execution_count": null,
   "id": "8cf6aa53",
   "metadata": {},
   "outputs": [],
   "source": [
    "table = Table(hdul[1].data)"
   ]
  },
  {
   "cell_type": "code",
   "execution_count": null,
   "id": "2f54d718",
   "metadata": {},
   "outputs": [],
   "source": [
    "df = table.to_pandas()"
   ]
  },
  {
   "cell_type": "code",
   "execution_count": null,
   "id": "7d991995",
   "metadata": {},
   "outputs": [],
   "source": [
    "print(df.shape)\n",
    "print(df.head(3))"
   ]
  },
  {
   "cell_type": "code",
   "execution_count": null,
   "id": "13a56164",
   "metadata": {},
   "outputs": [],
   "source": [
    "print(df.info())\n",
    "print(df.describe())"
   ]
  },
  {
   "cell_type": "code",
   "execution_count": null,
   "id": "7f9c787f",
   "metadata": {},
   "outputs": [],
   "source": [
    "def generate_cleanliness_report(df):\n",
    "    report = []\n",
    "\n",
    "    placeholder_values = [-999, -99, 9999, 999, -1e10, 1e10]\n",
    "\n",
    "    for col in df.columns:\n",
    "        if np.issubdtype(df[col].dtype, np.number):\n",
    "            values = df[col]\n",
    "            clean_vals = values[~values.isin(placeholder_values)]\n",
    "\n",
    "            report.append({\n",
    "                \"Column\": col,\n",
    "                \"Type\": df[col].dtype,\n",
    "                \"NaNs\": values.isna().sum(),\n",
    "                \"Placeholder count\": values.isin(placeholder_values).sum(),\n",
    "                \"Min\": clean_vals.min(),\n",
    "                \"Max\": clean_vals.max(),\n",
    "                \"Mean\": clean_vals.mean(),\n",
    "                \"Std\": clean_vals.std(),\n",
    "                \"Unique values\": values.nunique()\n",
    "            })\n",
    "\n",
    "    return pd.DataFrame(report).sort_values(by=\"Placeholder count\", ascending=False)"
   ]
  },
  {
   "cell_type": "code",
   "execution_count": null,
   "id": "d65b9ad1",
   "metadata": {},
   "outputs": [],
   "source": [
    "cleanliness_report = generate_cleanliness_report(df)"
   ]
  },
  {
   "cell_type": "code",
   "execution_count": null,
   "id": "d6123e81",
   "metadata": {},
   "outputs": [],
   "source": [
    "# cleanliness_report.to_csv(r'C:\\Users\\shash\\OneDrive\\Documents\\Dessertation\\Astro-DIM\\results\\eda\\cleanliness_report.csv', index=False)"
   ]
  },
  {
   "cell_type": "code",
   "execution_count": null,
   "id": "8f0c3ef7",
   "metadata": {},
   "outputs": [],
   "source": [
    "placeholders = [-999, -99, 999, 9999]\n",
    "\n",
    "cols_to_clean = [c for c in df.columns if c not in ['ID','NUM'] ]\n",
    "\n",
    "df[cols_to_clean] = df[cols_to_clean].replace(placeholders, np.nan)\n",
    "\n",
    "nan_counts = df.isna().sum().sort_values(ascending=False)\n",
    "\n",
    "nan_report = nan_counts.reset_index()\n",
    "nan_report.columns = ['Column', 'NaN_Count']"
   ]
  },
  {
   "cell_type": "code",
   "execution_count": null,
   "id": "8c99dbaa",
   "metadata": {},
   "outputs": [],
   "source": [
    "# nan_report.to_csv(r'C:\\Users\\shash\\OneDrive\\Documents\\Dessertation\\Astro-DIM\\results\\eda\\nan_counts.csv', index=False)"
   ]
  },
  {
   "cell_type": "markdown",
   "id": "a7d7990d",
   "metadata": {},
   "source": [
    "## Core Simulation Truth Features Exploration"
   ]
  },
  {
   "cell_type": "code",
   "execution_count": null,
   "id": "0f191e0c",
   "metadata": {},
   "outputs": [],
   "source": [
    "core_cols = [\n",
    "    'Z_true',           'Z_dist',\n",
    "    'MASS_true',        'MASSBC03_true',\n",
    "    'SFR_true',         'MASS-WEIGHTED_AGE_true',\n",
    "    'METALLICITY_true'\n",
    "]"
   ]
  },
  {
   "cell_type": "code",
   "execution_count": null,
   "id": "94de1582",
   "metadata": {},
   "outputs": [],
   "source": [
    "df_core_clean = df.dropna(subset=core_cols)\n",
    "df_core = df_core_clean[core_cols]"
   ]
  },
  {
   "cell_type": "code",
   "execution_count": null,
   "id": "3dfe7c50",
   "metadata": {},
   "outputs": [],
   "source": [
    "df_core = df[core_cols]"
   ]
  },
  {
   "cell_type": "code",
   "execution_count": null,
   "id": "5a9d3e8b",
   "metadata": {},
   "outputs": [],
   "source": [
    "print(df_core.shape)\n",
    "print(df_core.isna().sum())"
   ]
  },
  {
   "cell_type": "code",
   "execution_count": null,
   "id": "995a0ac5",
   "metadata": {},
   "outputs": [],
   "source": [
    "cols = df_core.columns.tolist()\n",
    "n = len(cols)"
   ]
  },
  {
   "cell_type": "code",
   "execution_count": null,
   "id": "7f63d205",
   "metadata": {},
   "outputs": [],
   "source": [
    "n_cols = 3\n",
    "n_rows = math.ceil(n / n_cols)"
   ]
  },
  {
   "cell_type": "code",
   "execution_count": null,
   "id": "68e6b55a",
   "metadata": {},
   "outputs": [],
   "source": [
    "fig, axes = plt.subplots(n_rows, n_cols, figsize=(5 * n_cols, 4 * n_rows))\n",
    "axes = axes.flatten()\n",
    "\n",
    "for ax, col in zip(axes, cols):\n",
    "    sns.histplot(df_core[col], bins=50, kde=True, ax=ax)\n",
    "    ax.set_title(col)\n",
    "    ax.set(xlabel='', ylabel='Count')\n",
    "\n",
    "for ax in axes[n:]:\n",
    "    ax.axis('off')\n",
    "\n",
    "plt.tight_layout()\n",
    "# plt.savefig(r'C:\\Users\\shash\\OneDrive\\Documents\\Dessertation\\Astro-DIM\\results\\eda\\core_data_histograms.png', dpi=300)\n",
    "plt.show()"
   ]
  },
  {
   "cell_type": "code",
   "execution_count": null,
   "id": "6ba9a040",
   "metadata": {},
   "outputs": [],
   "source": [
    "sample = df_core.sample(5000, random_state=42)\n",
    "\n",
    "sns.pairplot(sample, vars=cols, corner=True,\n",
    "             plot_kws={'s':10, 'alpha':0.3})\n",
    "# plt.savefig(r'C:\\Users\\shash\\OneDrive\\Documents\\Dessertation\\Astro-DIM\\results\\eda\\core_data_pairplot.png', dpi=300)\n",
    "plt.show()"
   ]
  },
  {
   "cell_type": "code",
   "execution_count": null,
   "id": "1579f19f",
   "metadata": {},
   "outputs": [],
   "source": [
    "corr = df_core[cols].corr()\n",
    "\n",
    "plt.figure(figsize=(7,7))\n",
    "sns.heatmap(corr, annot=True, fmt=\".2f\", cmap=\"vlag\", center=0)\n",
    "plt.title(\"Feature Correlation Matrix\")\n",
    "plt.savefig(r'C:\\Users\\shash\\OneDrive\\Documents\\Dessertation\\Astro-DIM\\results\\eda\\core_data_correlation_matrix.png', dpi=300)\n",
    "plt.show()"
   ]
  },
  {
   "cell_type": "code",
   "execution_count": null,
   "id": "b745a9bd",
   "metadata": {},
   "outputs": [],
   "source": [
    "to_drop = ['Z_dist', 'MASSBC03_true']\n",
    "df_prep = df_core.drop(columns=to_drop)\n",
    "\n",
    "print(\"Remaining columns:\", df_prep.columns.tolist())"
   ]
  },
  {
   "cell_type": "code",
   "execution_count": null,
   "id": "a04348b1",
   "metadata": {},
   "outputs": [],
   "source": [
    "eps = 1e-4\n",
    "\n",
    "sfr_log   = np.log10(np.clip(df_prep[\"SFR_true\"].to_numpy(), eps, None))\n",
    "age_log   = np.log10(df_prep[\"MASS-WEIGHTED_AGE_true\"].to_numpy())\n",
    "\n",
    "df_prep[[\"log_SFR\", \"log_Mass-Weighted Age\"]] = np.column_stack([sfr_log, age_log])\n",
    "\n",
    "df_prep[['log_SFR','log_Mass-Weighted Age']].describe().T"
   ]
  },
  {
   "cell_type": "code",
   "execution_count": null,
   "id": "a9cdf052",
   "metadata": {},
   "outputs": [],
   "source": [
    "df_prep.head()"
   ]
  },
  {
   "cell_type": "code",
   "execution_count": null,
   "id": "f12041f1",
   "metadata": {},
   "outputs": [],
   "source": [
    "to_drop = ['SFR_true', 'MASS-WEIGHTED_AGE_true']\n",
    "df_core_final = df_prep.drop(columns=to_drop)\n",
    "\n",
    "print(\"Remaining columns:\", df_core_final.columns.tolist())"
   ]
  },
  {
   "cell_type": "code",
   "execution_count": null,
   "id": "f538f616",
   "metadata": {},
   "outputs": [],
   "source": [
    "final_cols = df_core_final.columns.tolist()\n",
    "n = len(final_cols)"
   ]
  },
  {
   "cell_type": "code",
   "execution_count": null,
   "id": "b025fe97",
   "metadata": {},
   "outputs": [],
   "source": [
    "fig, axes = plt.subplots(2, 3, figsize=(15, 8))\n",
    "axes = axes.flatten()\n",
    "\n",
    "for ax, feat in zip(axes, final_cols):\n",
    "    sns.histplot(\n",
    "        df_core_final[feat],\n",
    "        bins=50,\n",
    "        kde=True,\n",
    "        ax=ax\n",
    "    )\n",
    "    ax.set_title(feat)\n",
    "    ax.set_xlabel('')\n",
    "    ax.set_ylabel('Count')\n",
    "\n",
    "axes[len(final_cols)].axis('off')\n",
    "\n",
    "plt.tight_layout()\n",
    "# plt.savefig(r'C:\\Users\\shash\\OneDrive\\Documents\\Dessertation\\Astro-DIM\\results\\eda\\final_core_data_histograms.png', dpi=300)\n",
    "plt.show()"
   ]
  },
  {
   "cell_type": "code",
   "execution_count": null,
   "id": "7e5bc206",
   "metadata": {},
   "outputs": [],
   "source": [
    "sample = df_core_final[final_cols].sample(5000, random_state=42)\n",
    "\n",
    "sns.pairplot(sample, vars=final_cols, corner=True,\n",
    "             plot_kws={'s':10, 'alpha':0.3})\n",
    "# plt.savefig(r'C:\\Users\\shash\\OneDrive\\Documents\\Dessertation\\Astro-DIM\\results\\eda\\final_core_data_pairplot.png', dpi=300)\n",
    "plt.show()"
   ]
  },
  {
   "cell_type": "code",
   "execution_count": null,
   "id": "86705f74",
   "metadata": {},
   "outputs": [],
   "source": [
    "corr = df_core_final[final_cols].corr()\n",
    "\n",
    "plt.figure(figsize=(6,5))\n",
    "sns.heatmap(corr, annot=True, fmt=\".2f\", cmap=\"vlag\", center=0)\n",
    "plt.title(\"Feature Correlation Matrix\")\n",
    "# plt.savefig(r'C:\\Users\\shash\\OneDrive\\Documents\\Dessertation\\Astro-DIM\\results\\eda\\final_core_data_correlation_matrix.png', dpi=300)\n",
    "plt.show()"
   ]
  },
  {
   "cell_type": "code",
   "execution_count": null,
   "id": "58c0d38b",
   "metadata": {},
   "outputs": [],
   "source": [
    "df_core_final.to_csv(r'C:\\Users\\shash\\OneDrive\\Documents\\Dessertation\\Astro-DIM\\data\\processed\\core_data.csv', index=False)"
   ]
  },
  {
   "cell_type": "code",
   "execution_count": null,
   "id": "54222244",
   "metadata": {},
   "outputs": [],
   "source": [
    "def hexbin_plot(x, y, title=\"\", xlabel=\"\", ylabel=\"\", gridsize=80, log=True, ax=None):\n",
    "    if ax is None:\n",
    "        fig, ax = plt.subplots(figsize=(6,5))\n",
    "    \n",
    "    hb = ax.hexbin(\n",
    "        x, y,\n",
    "        gridsize=gridsize,\n",
    "        mincnt=1,\n",
    "        norm=LogNorm() if log else None\n",
    "    )\n",
    "    cb = plt.colorbar(hb, ax=ax)\n",
    "    cb.set_label(\"counts\")\n",
    "    ax.set_title(title)\n",
    "    ax.set_xlabel(xlabel)\n",
    "    ax.set_ylabel(ylabel)\n",
    "    return ax"
   ]
  },
  {
   "cell_type": "code",
   "execution_count": null,
   "id": "071056b6",
   "metadata": {},
   "outputs": [],
   "source": [
    "n_features = len(final_cols)"
   ]
  },
  {
   "cell_type": "code",
   "execution_count": null,
   "id": "238687e5",
   "metadata": {},
   "outputs": [],
   "source": [
    "fig, axes = plt.subplots(n_features, n_features, figsize=(15, 15))\n",
    "\n",
    "for i in range(n_features):\n",
    "    for j in range(n_features):\n",
    "        ax = axes[i, j]\n",
    "        \n",
    "        if i < j:\n",
    "            ax.set_visible(False)\n",
    "        elif i == j:\n",
    "            ax.hist(df_core_final[final_cols[i]], bins=50, alpha=0.7, density=True)\n",
    "            ax.set_xlabel(final_cols[i])\n",
    "            ax.set_ylabel('Density')\n",
    "            if i == 0:\n",
    "                ax.set_title(final_cols[i])\n",
    "        else:\n",
    "            x_data = df_core_final[final_cols[j]]\n",
    "            y_data = df_core_final[final_cols[i]]\n",
    "            \n",
    "            hb = ax.hexbin(x_data, y_data, gridsize=30, mincnt=1, \n",
    "                          norm=LogNorm() if True else None)\n",
    "            \n",
    "            if i == n_features - 1:\n",
    "                ax.set_xlabel(final_cols[j])\n",
    "            if j == 0:\n",
    "                ax.set_ylabel(final_cols[i])\n",
    "            \n",
    "            if i != n_features - 1:\n",
    "                ax.set_xticklabels([])\n",
    "            if j != 0:\n",
    "                ax.set_yticklabels([])\n",
    "                \n",
    "plt.tight_layout()\n",
    "plt.suptitle('Hexbin Corner Plot of 5 Features', fontsize=16, y=0.98)\n",
    "\n",
    "plt.subplots_adjust(right=0.92)\n",
    "cbar_ax = fig.add_axes([0.93, 0.15, 0.02, 0.5])\n",
    "cb = plt.colorbar(hb, cax=cbar_ax)\n",
    "cb.set_label('Counts', rotation=270, labelpad=15)\n",
    "\n",
    "# plt.savefig(r'C:\\Users\\shash\\OneDrive\\Documents\\Dessertation\\Astro-DIM\\results\\eda\\final_core_data_hexbin_corner_plot.png', dpi=300)\n",
    "plt.show()"
   ]
  },
  {
   "cell_type": "markdown",
   "id": "b53d28ca",
   "metadata": {},
   "source": [
    "## Observed DATA Exploration"
   ]
  },
  {
   "cell_type": "code",
   "execution_count": null,
   "id": "55354e97",
   "metadata": {},
   "outputs": [],
   "source": [
    "photometry_cols = [\n",
    "    'ulsst_TOT',    'gdes_TOT',\n",
    "    'glsst_TOT',    'rdes_TOT',     \n",
    "    'ides_TOT',     'ilsst_TOT',\n",
    "    'zlsst_TOT',    'zdes_TOT',     \n",
    "    'Jeuc_TOT',     'Yeuc_TOT',\n",
    "    'Heuc_TOT',     'VISeuc_TOT',\n",
    "    'rlsst_TOT',    'ylsst_TOT'\n",
    "]"
   ]
  },
  {
   "cell_type": "code",
   "execution_count": null,
   "id": "523da038",
   "metadata": {},
   "outputs": [],
   "source": [
    "df_photometry = df[photometry_cols]"
   ]
  },
  {
   "cell_type": "code",
   "execution_count": null,
   "id": "538166de",
   "metadata": {},
   "outputs": [],
   "source": [
    "print(df_photometry.shape)\n",
    "print(df_photometry.isna().sum())"
   ]
  },
  {
   "cell_type": "code",
   "execution_count": null,
   "id": "c0fe4657",
   "metadata": {},
   "outputs": [],
   "source": [
    "print(\"Analyzing SFR values where photometry data is missing:\")\n",
    "print(\"=\"*60)\n",
    "\n",
    "# Find rows with any NaN in photometry columns\n",
    "rows_with_photometry_nan = df_photometry.isna().any(axis=1)\n",
    "nan_row_indices = df_photometry.index[rows_with_photometry_nan]\n",
    "\n",
    "print(f\"Total rows: {len(df)}\")\n",
    "print(f\"Rows with NaN in photometry: {len(nan_row_indices)}\")\n",
    "print(f\"Rows with complete photometry: {len(df) - len(nan_row_indices)}\")"
   ]
  },
  {
   "cell_type": "code",
   "execution_count": null,
   "id": "0f49aaee",
   "metadata": {},
   "outputs": [],
   "source": [
    "sfr_with_nan_photometry = df.loc[nan_row_indices, 'SFR_true']\n",
    "sfr_with_complete_photometry = df.loc[~rows_with_photometry_nan, 'SFR_true']\n",
    "\n",
    "print(f\"\\nSFR statistics for rows with NaN photometry:\")\n",
    "print(f\"Count: {len(sfr_with_nan_photometry)}\")\n",
    "print(f\"Non-NaN SFR values: {sfr_with_nan_photometry.notna().sum()}\")\n",
    "print(f\"NaN SFR values: {sfr_with_nan_photometry.isna().sum()}\")"
   ]
  },
  {
   "cell_type": "code",
   "execution_count": null,
   "id": "5405e754",
   "metadata": {},
   "outputs": [],
   "source": [
    "print(f\"\\nSFR statistics for rows with NaN photometry:\")\n",
    "print(f\"Count: {len(sfr_with_nan_photometry)}\")\n",
    "print(f\"Non-NaN SFR values: {sfr_with_nan_photometry.notna().sum()}\")\n",
    "print(f\"NaN SFR values: {sfr_with_nan_photometry.isna().sum()}\")\n",
    "\n",
    "if sfr_with_nan_photometry.notna().sum() > 0:\n",
    "    valid_sfr_nan_rows = sfr_with_nan_photometry.dropna()\n",
    "    print(f\"Min SFR: {valid_sfr_nan_rows.min():.6f}\")\n",
    "    print(f\"Max SFR: {valid_sfr_nan_rows.max():.6f}\")\n",
    "    print(f\"Mean SFR: {valid_sfr_nan_rows.mean():.6f}\")\n",
    "    print(f\"Median SFR: {valid_sfr_nan_rows.median():.6f}\")\n"
   ]
  },
  {
   "cell_type": "code",
   "execution_count": null,
   "id": "7180096d",
   "metadata": {},
   "outputs": [],
   "source": [
    "print(f\"\\nSFR statistics for rows with complete photometry:\")\n",
    "print(f\"Count: {len(sfr_with_complete_photometry)}\")\n",
    "print(f\"Non-NaN SFR values: {sfr_with_complete_photometry.notna().sum()}\")\n",
    "print(f\"NaN SFR values: {sfr_with_complete_photometry.isna().sum()}\")\n",
    "\n",
    "if sfr_with_complete_photometry.notna().sum() > 0:\n",
    "    valid_sfr_complete_rows = sfr_with_complete_photometry.dropna()\n",
    "    print(f\"Min SFR: {valid_sfr_complete_rows.min():.6f}\")\n",
    "    print(f\"Max SFR: {valid_sfr_complete_rows.max():.6f}\")\n",
    "    print(f\"Mean SFR: {valid_sfr_complete_rows.mean():.6f}\")\n",
    "    print(f\"Median SFR: {valid_sfr_complete_rows.median():.6f}\")"
   ]
  },
  {
   "cell_type": "code",
   "execution_count": null,
   "id": "58e4d34c",
   "metadata": {},
   "outputs": [],
   "source": [
    "placeholder_values = [-999, -99, 999, 9999, 0]\n",
    "print(f\"\\nPlaceholder analysis for SFR in complete photometry rows:\")\n",
    "for placeholder in placeholder_values:\n",
    "    count = (sfr_with_complete_photometry == placeholder).sum()\n",
    "    if count > 0:\n",
    "        print(f\"SFR = {placeholder}: {count} occurrences\")"
   ]
  },
  {
   "cell_type": "code",
   "execution_count": null,
   "id": "4c499018",
   "metadata": {},
   "outputs": [],
   "source": [
    "lsst_cols = [c for c in photometry_cols if 'lsst' in c.lower()]\n",
    "des_cols = [c for c in photometry_cols if 'des' in c.lower()]\n",
    "euc_cols = [c for c in photometry_cols if 'euc' in c.lower()]\n",
    "\n",
    "print(\"LSST columns:\", lsst_cols)\n",
    "print(\"DES columns:\", des_cols)\n",
    "print(\"Euclid columns:\", euc_cols)"
   ]
  },
  {
   "cell_type": "code",
   "execution_count": null,
   "id": "5e68817c",
   "metadata": {},
   "outputs": [],
   "source": [
    "df_photometry_with_colors = df_photometry.copy()"
   ]
  },
  {
   "cell_type": "code",
   "execution_count": null,
   "id": "acf0a3aa",
   "metadata": {},
   "outputs": [],
   "source": [
    "def create_intra_survey_colors(df, cols, survey_name):\n",
    "    colors_created = []\n",
    "    \n",
    "    wavelength_order = ['u', 'g', 'r', 'i', 'z', 'y', 'vis', 'j', 'h']\n",
    "    \n",
    "    def get_band_priority(col):\n",
    "        col_lower = col.lower()\n",
    "        for i, band in enumerate(wavelength_order):\n",
    "            if band in col_lower:\n",
    "                return i\n",
    "        return 999 \n",
    "    \n",
    "    sorted_cols = sorted(cols, key=get_band_priority)\n",
    "    \n",
    "    for i in range(len(sorted_cols) - 1):\n",
    "        band1 = sorted_cols[i]\n",
    "        band2 = sorted_cols[i + 1]\n",
    "        \n",
    "        band1_name = band1.replace('_TOT', '').replace('lsst', '').replace('des', '').replace('euc', '')\n",
    "        band2_name = band2.replace('_TOT', '').replace('lsst', '').replace('des', '').replace('euc', '')\n",
    "        \n",
    "        color_name = f\"{band1_name}_{band2_name}_{survey_name}\"\n",
    "        df[color_name] = df[band1] - df[band2]\n",
    "        colors_created.append(color_name)\n",
    "    \n",
    "    return colors_created"
   ]
  },
  {
   "cell_type": "code",
   "execution_count": null,
   "id": "06646d2d",
   "metadata": {},
   "outputs": [],
   "source": [
    "lsst_colors = create_intra_survey_colors(df_photometry_with_colors, lsst_cols, 'lsst')\n",
    "des_colors = create_intra_survey_colors(df_photometry_with_colors, des_cols, 'des')\n",
    "euc_colors = create_intra_survey_colors(df_photometry_with_colors, euc_cols, 'euc')\n",
    "\n",
    "print(f\"Created {len(lsst_colors)} LSST color indices: {lsst_colors}\")\n",
    "print(f\"Created {len(des_colors)} DES color indices: {des_colors}\")\n",
    "print(f\"Created {len(euc_colors)} Euclid color indices: {euc_colors}\")"
   ]
  },
  {
   "cell_type": "code",
   "execution_count": null,
   "id": "0f936112",
   "metadata": {},
   "outputs": [],
   "source": [
    "df_photometry_final = df_photometry_with_colors.dropna().reset_index(drop=True)\n",
    "\n",
    "print(f\"\\nFinal photometry dataset shape: {df_photometry_final.shape}\")\n",
    "print(f\"NaN counts after cleaning: {df_photometry_final.isna().sum().sum()}\")"
   ]
  },
  {
   "cell_type": "code",
   "execution_count": null,
   "id": "f6c436b6",
   "metadata": {},
   "outputs": [],
   "source": [
    "print(\"\\nBasic statistics for color indices:\")\n",
    "all_color_cols = lsst_colors + des_colors + euc_colors\n",
    "print(df_photometry_final[all_color_cols].describe())"
   ]
  },
  {
   "cell_type": "code",
   "execution_count": null,
   "id": "a709ddfe",
   "metadata": {},
   "outputs": [],
   "source": [
    "cols = df_photometry_final.columns.tolist()\n",
    "n = len(cols)\n",
    "n_cols = 4\n",
    "n_rows = math.ceil(n / n_cols)\n",
    "\n",
    "fig, axes = plt.subplots(n_rows, n_cols, figsize=(5 * n_cols, 4 * n_rows))\n",
    "axes = axes.flatten()\n",
    "\n",
    "for ax, col in zip(axes, cols):\n",
    "    sns.histplot(df_photometry_final[col], bins=50, kde=True, ax=ax)\n",
    "    ax.set_title(col, fontsize=10)\n",
    "    ax.set(xlabel='', ylabel='Count')\n",
    "\n",
    "for ax in axes[n:]:\n",
    "    ax.axis('off')\n",
    "\n",
    "plt.tight_layout()\n",
    "plt.savefig(r'C:\\Users\\shash\\OneDrive\\Documents\\Dessertation\\Astro-DIM\\results\\eda\\photometry_with_colors_histograms.png', dpi=300)\n",
    "plt.show()"
   ]
  },
  {
   "cell_type": "code",
   "execution_count": null,
   "id": "cb0293fb",
   "metadata": {},
   "outputs": [],
   "source": [
    "plt.figure(figsize=(20, 16))\n",
    "sns.heatmap(\n",
    "    df_photometry_final.corr(),\n",
    "    annot=True,  # Show correlation numbers\n",
    "    fmt=\".2f\",\n",
    "    cmap=\"vlag\",\n",
    "    center=0,\n",
    "    vmin=-1,\n",
    "    vmax=1,\n",
    "    linewidths=0.1,\n",
    "    cbar_kws={\"shrink\": 0.8},\n",
    "    annot_kws={\"size\": 8}  # Smaller font for readability\n",
    ")\n",
    "plt.title(\"Correlation Heatmap - Photometry + Color Indices\")\n",
    "plt.xticks(rotation=45, ha='right')\n",
    "plt.yticks(rotation=0)\n",
    "plt.savefig(r'C:\\Users\\shash\\OneDrive\\Documents\\Dessertation\\Astro-DIM\\results\\eda\\photometry_with_colors_correlation_heatmap.png', dpi=300, bbox_inches='tight')\n",
    "plt.show()"
   ]
  },
  {
   "cell_type": "code",
   "execution_count": null,
   "id": "f5de8e7f",
   "metadata": {},
   "outputs": [],
   "source": [
    "df_photometry_final.to_csv(\n",
    "    r'C:\\Users\\shash\\OneDrive\\Documents\\Dessertation\\Astro-DIM\\data\\processed\\photometry_data.csv',\n",
    "    index=False\n",
    ")"
   ]
  },
  {
   "cell_type": "markdown",
   "id": "87dba21e",
   "metadata": {},
   "source": [
    "## Colors Data Exploration"
   ]
  },
  {
   "cell_type": "code",
   "execution_count": null,
   "id": "7a8f9aa3",
   "metadata": {},
   "outputs": [],
   "source": [
    "df_lsst_colors = df_photometry_final[lsst_cols + lsst_colors].dropna()\n",
    "df_des_colors = df_photometry_final[des_cols + des_colors].dropna()\n",
    "df_euc_colors = df_photometry_final[euc_cols + euc_colors].dropna()\n",
    "\n",
    "print(f\"\\nLSST colors dataset shape: {df_lsst_colors.shape}\")\n",
    "print(f\"DES colors dataset shape: {df_des_colors.shape}\")\n",
    "print(f\"Euclid colors dataset shape: {df_euc_colors.shape}\")\n"
   ]
  },
  {
   "cell_type": "code",
   "execution_count": null,
   "id": "aae5eb3f",
   "metadata": {},
   "outputs": [],
   "source": [
    "def visualize_survey_colors(df, survey_name, color_cols):\n",
    "    \n",
    "    if len(color_cols) > 0:\n",
    "        n_colors = len(color_cols)\n",
    "        n_cols = 3\n",
    "        n_rows = math.ceil(n_colors / n_cols)\n",
    "        \n",
    "        fig, axes = plt.subplots(n_rows, n_cols, figsize=(5 * n_cols, 4 * n_rows))\n",
    "        if n_rows == 1:\n",
    "            axes = [axes] if n_colors == 1 else axes\n",
    "        else:\n",
    "            axes = axes.flatten()\n",
    "        \n",
    "        for i, col in enumerate(color_cols):\n",
    "            if i < len(axes):\n",
    "                sns.histplot(df[col], bins=50, kde=True, ax=axes[i])\n",
    "                axes[i].set_title(col)\n",
    "                axes[i].set(xlabel='', ylabel='Count')\n",
    "        \n",
    "        for i in range(len(color_cols), len(axes)):\n",
    "            axes[i].axis('off')\n",
    "        \n",
    "        plt.tight_layout()\n",
    "        plt.savefig(f'C:\\\\Users\\\\shash\\\\OneDrive\\\\Documents\\\\Dessertation\\\\Astro-DIM\\\\results\\\\eda\\\\{survey_name}_colors_histograms.png', dpi=300)\n",
    "        plt.show()\n",
    "        \n",
    "        if len(color_cols) > 1:\n",
    "            plt.figure(figsize=(10, 8))\n",
    "            sns.heatmap(\n",
    "                df[color_cols].corr(),\n",
    "                annot=True,\n",
    "                fmt=\".2f\",\n",
    "                cmap=\"vlag\",\n",
    "                center=0,\n",
    "                vmin=-1,\n",
    "                vmax=1,\n",
    "                linewidths=0.5,\n",
    "                cbar_kws={\"shrink\": 0.8}\n",
    "            )\n",
    "            plt.title(f\"{survey_name.upper()} Color Indices Correlation\")\n",
    "            plt.savefig(f'C:\\\\Users\\\\shash\\\\OneDrive\\\\Documents\\\\Dessertation\\\\Astro-DIM\\\\results\\\\eda\\\\{survey_name}_colors_correlation_heatmap.png', dpi=300)\n",
    "            plt.show()"
   ]
  },
  {
   "cell_type": "code",
   "execution_count": null,
   "id": "27d9edb0",
   "metadata": {},
   "outputs": [],
   "source": [
    "if lsst_colors:\n",
    "    visualize_survey_colors(df_lsst_colors, 'lsst', lsst_colors)\n",
    "if des_colors:\n",
    "    visualize_survey_colors(df_des_colors, 'des', des_colors)\n",
    "if euc_colors:\n",
    "    visualize_survey_colors(df_euc_colors, 'euc', euc_colors)"
   ]
  },
  {
   "cell_type": "code",
   "execution_count": null,
   "id": "99b02ebd",
   "metadata": {},
   "outputs": [],
   "source": [
    "if lsst_colors:\n",
    "    df_lsst_colors_only = df_photometry_final[lsst_colors].dropna()\n",
    "    df_lsst_colors_only.to_csv(r'C:\\Users\\shash\\OneDrive\\Documents\\Dessertation\\Astro-DIM\\data\\processed\\lsst_colors_only.csv', index=False)\n",
    "    print(f\"LSST colors-only dataset saved! Shape: {df_lsst_colors_only.shape}\")\n",
    "\n",
    "if des_colors:\n",
    "    df_des_colors_only = df_photometry_final[des_colors].dropna()\n",
    "    df_des_colors_only.to_csv(r'C:\\Users\\shash\\OneDrive\\Documents\\Dessertation\\Astro-DIM\\data\\processed\\des_colors_only.csv', index=False)\n",
    "    print(f\"DES colors-only dataset saved! Shape: {df_des_colors_only.shape}\")\n",
    "\n",
    "if euc_colors:\n",
    "    df_euc_colors_only = df_photometry_final[euc_colors].dropna()\n",
    "    df_euc_colors_only.to_csv(r'C:\\Users\\shash\\OneDrive\\Documents\\Dessertation\\Astro-DIM\\data\\processed\\euc_colors_only.csv', index=False)\n",
    "    print(f\"Euclid colors-only dataset saved! Shape: {df_euc_colors_only.shape}\")\n"
   ]
  },
  {
   "cell_type": "code",
   "execution_count": null,
   "id": "628e0dab",
   "metadata": {},
   "outputs": [],
   "source": [
    "if not df_lsst_colors.empty:\n",
    "    df_lsst_colors.to_csv(r'C:\\Users\\shash\\OneDrive\\Documents\\Dessertation\\Astro-DIM\\data\\processed\\lsst_colors_data.csv', index=False)\n",
    "    print(\"LSST colors dataset saved!\")\n",
    "\n",
    "if not df_des_colors.empty:\n",
    "    df_des_colors.to_csv(r'C:\\Users\\shash\\OneDrive\\Documents\\Dessertation\\Astro-DIM\\data\\processed\\des_colors_data.csv', index=False)\n",
    "    print(\"DES colors dataset saved!\")\n",
    "\n",
    "if not df_euc_colors.empty:\n",
    "    df_euc_colors.to_csv(r'C:\\Users\\shash\\OneDrive\\Documents\\Dessertation\\Astro-DIM\\data\\processed\\euc_colors_data.csv', index=False)\n",
    "    print(\"Euclid colors dataset saved!\")"
   ]
  },
  {
   "cell_type": "code",
   "execution_count": null,
   "id": "3721535a",
   "metadata": {},
   "outputs": [],
   "source": [
    "all_color_indices = df_photometry_final[all_color_cols].copy()\n",
    "all_color_indices.to_csv(r'C:\\Users\\shash\\OneDrive\\Documents\\Dessertation\\Astro-DIM\\data\\processed\\all_colors_data.csv', index=False)\n",
    "print(\"Combined colors-only dataset saved!\")"
   ]
  },
  {
   "cell_type": "code",
   "execution_count": null,
   "id": "22779292",
   "metadata": {},
   "outputs": [],
   "source": [
    "print(f\"\\nSummary:\")\n",
    "print(f\"- Complete photometry + colors dataset: {df_photometry_final.shape}\")\n",
    "print(f\"- LSST-specific dataset: {df_lsst_colors.shape}\")\n",
    "print(f\"- DES-specific dataset: {df_des_colors.shape}\")\n",
    "print(f\"- Euclid-specific dataset: {df_euc_colors.shape}\")\n",
    "print(f\"- All colors combined: {all_color_indices.shape}\")\n",
    "print(f\"- LSST colors only: {df_lsst_colors_only.shape if lsst_colors else 'No LSST colors'}\")\n",
    "print(f\"- DES colors only: {df_des_colors_only.shape if des_colors else 'No DES colors'}\")\n",
    "print(f\"- Euclid colors only: {df_euc_colors_only.shape if euc_colors else 'No Euclid colors'}\")"
   ]
  }
 ],
 "metadata": {
  "kernelspec": {
   "display_name": "base",
   "language": "python",
   "name": "python3"
  },
  "language_info": {
   "codemirror_mode": {
    "name": "ipython",
    "version": 3
   },
   "file_extension": ".py",
   "mimetype": "text/x-python",
   "name": "python",
   "nbconvert_exporter": "python",
   "pygments_lexer": "ipython3",
   "version": "3.12.7"
  }
 },
 "nbformat": 4,
 "nbformat_minor": 5
}
